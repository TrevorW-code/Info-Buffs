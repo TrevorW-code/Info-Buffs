{
 "cells": [
  {
   "cell_type": "code",
   "execution_count": 3,
   "id": "e5f856ed",
   "metadata": {},
   "outputs": [
    {
     "name": "stdout",
     "output_type": "stream",
     "text": [
      "Requirement already satisfied: transformers[sentencepiece] in /Users/trevor/opt/anaconda3/envs/DS/lib/python3.8/site-packages (4.20.1)\n",
      "Requirement already satisfied: filelock in /Users/trevor/opt/anaconda3/envs/DS/lib/python3.8/site-packages (from transformers[sentencepiece]) (3.7.1)\n",
      "Requirement already satisfied: tqdm>=4.27 in /Users/trevor/opt/anaconda3/envs/DS/lib/python3.8/site-packages (from transformers[sentencepiece]) (4.62.3)\n",
      "Requirement already satisfied: packaging>=20.0 in /Users/trevor/opt/anaconda3/envs/DS/lib/python3.8/site-packages (from transformers[sentencepiece]) (21.0)\n",
      "Requirement already satisfied: regex!=2019.12.17 in /Users/trevor/opt/anaconda3/envs/DS/lib/python3.8/site-packages (from transformers[sentencepiece]) (2021.11.10)\n",
      "Requirement already satisfied: huggingface-hub<1.0,>=0.1.0 in /Users/trevor/opt/anaconda3/envs/DS/lib/python3.8/site-packages (from transformers[sentencepiece]) (0.8.1)\n",
      "Requirement already satisfied: requests in /Users/trevor/opt/anaconda3/envs/DS/lib/python3.8/site-packages (from transformers[sentencepiece]) (2.26.0)\n",
      "Requirement already satisfied: tokenizers!=0.11.3,<0.13,>=0.11.1 in /Users/trevor/opt/anaconda3/envs/DS/lib/python3.8/site-packages (from transformers[sentencepiece]) (0.12.1)\n",
      "Requirement already satisfied: pyyaml>=5.1 in /Users/trevor/opt/anaconda3/envs/DS/lib/python3.8/site-packages (from transformers[sentencepiece]) (6.0)\n",
      "Requirement already satisfied: numpy>=1.17 in /Users/trevor/opt/anaconda3/envs/DS/lib/python3.8/site-packages (from transformers[sentencepiece]) (1.22.0)\n",
      "Collecting protobuf<=3.20.1\n",
      "  Downloading protobuf-3.20.1-cp38-cp38-macosx_10_9_x86_64.whl (962 kB)\n",
      "\u001b[2K     \u001b[38;2;114;156;31m━━━━━━━━━━━━━━━━━━━━━━━━━━━━━━━━━━━━━\u001b[0m \u001b[32m962.3/962.3 kB\u001b[0m \u001b[31m535.9 kB/s\u001b[0m eta \u001b[36m0:00:00\u001b[0mm eta \u001b[36m0:00:01\u001b[0m0:01\u001b[0m:01\u001b[0m\n",
      "\u001b[?25hCollecting sentencepiece!=0.1.92,>=0.1.91\n",
      "  Downloading sentencepiece-0.1.96-cp38-cp38-macosx_10_6_x86_64.whl (1.1 MB)\n",
      "\u001b[2K     \u001b[38;2;114;156;31m━━━━━━━━━━━━━━━━━━━━━━━━━━━━━━━━━━━━━━━━\u001b[0m \u001b[32m1.1/1.1 MB\u001b[0m \u001b[31m504.0 kB/s\u001b[0m eta \u001b[36m0:00:00\u001b[0mm eta \u001b[36m0:00:01\u001b[0m0:01\u001b[0m:01\u001b[0m\n",
      "\u001b[?25hRequirement already satisfied: typing-extensions>=3.7.4.3 in /Users/trevor/opt/anaconda3/envs/DS/lib/python3.8/site-packages/typing_extensions-4.1.1-py3.8.egg (from huggingface-hub<1.0,>=0.1.0->transformers[sentencepiece]) (4.1.1)\n",
      "Requirement already satisfied: pyparsing>=2.0.2 in /Users/trevor/opt/anaconda3/envs/DS/lib/python3.8/site-packages (from packaging>=20.0->transformers[sentencepiece]) (2.4.7)\n",
      "Requirement already satisfied: charset-normalizer~=2.0.0 in /Users/trevor/opt/anaconda3/envs/DS/lib/python3.8/site-packages (from requests->transformers[sentencepiece]) (2.0.0)\n",
      "Requirement already satisfied: urllib3<1.27,>=1.21.1 in /Users/trevor/opt/anaconda3/envs/DS/lib/python3.8/site-packages (from requests->transformers[sentencepiece]) (1.26.6)\n",
      "Requirement already satisfied: idna<4,>=2.5 in /Users/trevor/opt/anaconda3/envs/DS/lib/python3.8/site-packages (from requests->transformers[sentencepiece]) (3.1)\n",
      "Requirement already satisfied: certifi>=2017.4.17 in /Users/trevor/opt/anaconda3/envs/DS/lib/python3.8/site-packages (from requests->transformers[sentencepiece]) (2021.5.30)\n",
      "Installing collected packages: sentencepiece, protobuf\n",
      "  Attempting uninstall: protobuf\n",
      "    Found existing installation: protobuf 4.0.0rc2\n",
      "    Uninstalling protobuf-4.0.0rc2:\n",
      "      Successfully uninstalled protobuf-4.0.0rc2\n",
      "\u001b[31mERROR: pip's dependency resolver does not currently take into account all the packages that are installed. This behaviour is the source of the following dependency conflicts.\n",
      "tensorflow 2.8.0 requires astunparse>=1.6.0, which is not installed.\n",
      "tensorflow 2.8.0 requires gast>=0.2.1, which is not installed.\n",
      "tensorflow 2.8.0 requires google-pasta>=0.1.1, which is not installed.\n",
      "tensorflow 2.8.0 requires grpcio<2.0,>=1.24.3, which is not installed.\n",
      "tensorflow 2.8.0 requires h5py>=2.9.0, which is not installed.\n",
      "tensorflow 2.8.0 requires keras-preprocessing>=1.1.1, which is not installed.\n",
      "tensorboard 2.8.0 requires google-auth<3,>=1.6.3, which is not installed.\n",
      "tensorboard 2.8.0 requires google-auth-oauthlib<0.5,>=0.4.1, which is not installed.\n",
      "tensorboard 2.8.0 requires grpcio>=1.24.3, which is not installed.\n",
      "tensorboard 2.8.0 requires markdown>=2.6.8, which is not installed.\n",
      "tensorboard 2.8.0 requires tensorboard-data-server<0.7.0,>=0.6.0, which is not installed.\n",
      "tensorboard 2.8.0 requires tensorboard-plugin-wit>=1.6.0, which is not installed.\n",
      "tensorboard 2.8.0 requires werkzeug>=0.11.15, which is not installed.\n",
      "tensorflow 2.8.0 requires keras<2.9,>=2.8.0rc0, but you have keras 2.9.0rc0 which is incompatible.\u001b[0m\u001b[31m\n",
      "\u001b[0mSuccessfully installed protobuf-3.20.1 sentencepiece-0.1.96\n",
      "Note: you may need to restart the kernel to use updated packages.\n"
     ]
    }
   ],
   "source": [
    "pip install \"transformers[sentencepiece]\""
   ]
  },
  {
   "cell_type": "code",
   "execution_count": null,
   "id": "1134b68f",
   "metadata": {},
   "outputs": [],
   "source": []
  }
 ],
 "metadata": {
  "kernelspec": {
   "display_name": "Python 3",
   "language": "python",
   "name": "python3"
  },
  "language_info": {
   "codemirror_mode": {
    "name": "ipython",
    "version": 3
   },
   "file_extension": ".py",
   "mimetype": "text/x-python",
   "name": "python",
   "nbconvert_exporter": "python",
   "pygments_lexer": "ipython3",
   "version": "3.8.11"
  }
 },
 "nbformat": 4,
 "nbformat_minor": 5
}
